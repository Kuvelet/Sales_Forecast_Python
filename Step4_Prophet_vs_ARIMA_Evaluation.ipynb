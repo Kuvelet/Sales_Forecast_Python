{
 "cells": [
  {
   "cell_type": "code",
   "execution_count": 5,
   "id": "e78b3a58-f9ec-499f-9d23-eaf3da8ff332",
   "metadata": {},
   "outputs": [
    {
     "name": "stdout",
     "output_type": "stream",
     "text": [
      "🔮 Prophet:\n",
      "RMSE: 16.20\n",
      "MAE: 6.27\n",
      "MAPE: 109.72%\n",
      "\n",
      "📉 ARIMA:\n",
      "RMSE: 15.25\n",
      "MAE: 5.92\n",
      "MAPE: 118.21%\n"
     ]
    }
   ],
   "source": [
    "# Step4_Prophet_vs_ARIMA_Evaluation\n",
    "\n",
    "import pandas as pd\n",
    "from sklearn.metrics import (\n",
    "    root_mean_squared_error,\n",
    "    mean_absolute_error,\n",
    "    mean_absolute_percentage_error\n",
    ")\n",
    "\n",
    "# Load actual vs forecast data\n",
    "prophet_df = pd.read_csv(\"actual_vs_prophet_forecasts.csv\")\n",
    "arima_df = pd.read_csv(\"actual_vs_arima_forecasts.csv\")\n",
    "\n",
    "# Filter only forecast period (evaluation period)\n",
    "prophet_eval = prophet_df[prophet_df['ForecastMonth'] >= '2024-09-30']\n",
    "arima_eval = arima_df[arima_df['ForecastMonth'] >= '2024-09-30']\n",
    "\n",
    "# ------------------ Prophet Evaluation ------------------\n",
    "\n",
    "# RMSE & MAE (on full data)\n",
    "rmse_prophet = root_mean_squared_error(prophet_eval['Actual'], prophet_eval['Forecasted_Quantity'])\n",
    "mae_prophet = mean_absolute_error(prophet_eval['Actual'], prophet_eval['Forecasted_Quantity'])\n",
    "\n",
    "# Filter out zero actuals for MAPE\n",
    "prophet_mape_df = prophet_eval[prophet_eval['Actual'] != 0]\n",
    "mape_prophet = mean_absolute_percentage_error(\n",
    "    prophet_mape_df['Actual'], \n",
    "    prophet_mape_df['Forecasted_Quantity']\n",
    ") * 100\n",
    "\n",
    "# ------------------ ARIMA Evaluation ------------------\n",
    "\n",
    "rmse_arima = root_mean_squared_error(arima_eval['Actual'], arima_eval['Forecasted_Quantity'])\n",
    "mae_arima = mean_absolute_error(arima_eval['Actual'], arima_eval['Forecasted_Quantity'])\n",
    "\n",
    "arima_mape_df = arima_eval[arima_eval['Actual'] != 0]\n",
    "mape_arima = mean_absolute_percentage_error(\n",
    "    arima_mape_df['Actual'], \n",
    "    arima_mape_df['Forecasted_Quantity']\n",
    ") * 100\n",
    "\n",
    "# ------------------ Print Results ------------------\n",
    "\n",
    "print(\"🔮 Prophet:\")\n",
    "print(f\"RMSE: {rmse_prophet:.2f}\")\n",
    "print(f\"MAE: {mae_prophet:.2f}\")\n",
    "print(f\"MAPE: {mape_prophet:.2f}%\")\n",
    "\n",
    "print(\"\\n📉 ARIMA:\")\n",
    "print(f\"RMSE: {rmse_arima:.2f}\")\n",
    "print(f\"MAE: {mae_arima:.2f}\")\n",
    "print(f\"MAPE: {mape_arima:.2f}%\")\n"
   ]
  },
  {
   "cell_type": "code",
   "execution_count": null,
   "id": "c27a87d6-b10d-4a16-817b-f4066095bcb8",
   "metadata": {},
   "outputs": [],
   "source": []
  }
 ],
 "metadata": {
  "kernelspec": {
   "display_name": "Python 3 (ipykernel)",
   "language": "python",
   "name": "python3"
  },
  "language_info": {
   "codemirror_mode": {
    "name": "ipython",
    "version": 3
   },
   "file_extension": ".py",
   "mimetype": "text/x-python",
   "name": "python",
   "nbconvert_exporter": "python",
   "pygments_lexer": "ipython3",
   "version": "3.12.3"
  }
 },
 "nbformat": 4,
 "nbformat_minor": 5
}
